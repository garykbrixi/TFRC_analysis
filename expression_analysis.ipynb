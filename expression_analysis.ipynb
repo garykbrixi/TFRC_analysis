{
 "cells": [
  {
   "cell_type": "code",
   "execution_count": 70,
   "id": "3f21a097-9d6c-4273-8618-88a0106cd5f5",
   "metadata": {},
   "outputs": [],
   "source": [
    "import pandas as pd\n"
   ]
  },
  {
   "cell_type": "code",
   "execution_count": 71,
   "id": "34b5ac3a-03ed-43dc-a057-f1f67e97d011",
   "metadata": {},
   "outputs": [],
   "source": [
    "df = pd.read_csv('data/merav_TFRC.csv', sep=' ',header=None)"
   ]
  },
  {
   "cell_type": "code",
   "execution_count": 72,
   "id": "7784972c-1271-4cff-86a0-559feb203dc5",
   "metadata": {
    "tags": []
   },
   "outputs": [],
   "source": [
    "df['tissue'] = df[0].apply(lambda x: x.split('_')[0])\n",
    "df['cancer']  = df[0].apply(lambda x: x.split('_')[1])\n"
   ]
  },
  {
   "cell_type": "code",
   "execution_count": 73,
   "id": "d583fbb9-b88b-4f93-864d-5e3d03931ba8",
   "metadata": {
    "tags": []
   },
   "outputs": [],
   "source": [
    "from scipy.stats import ttest_ind\n",
    "\n",
    "t_tests = {}\n",
    "for tissue in df['tissue'].unique():\n",
    "    # try:\n",
    "    sub_df = df[df['tissue'] == tissue]\n",
    "    \n",
    "    result = ttest_ind(sub_df[sub_df['cancer']!='Primary.Tumor'][2], sub_df[sub_df['cancer']=='Primary.Tumor'][2], equal_var=False)\n",
    "    \n",
    "    t_tests[tissue] = result\n",
    "    "
   ]
  },
  {
   "cell_type": "code",
   "execution_count": 74,
   "id": "76e728d2-b7d5-4005-95a0-0c07007f05be",
   "metadata": {
    "tags": []
   },
   "outputs": [
    {
     "data": {
      "text/html": [
       "<div>\n",
       "<style scoped>\n",
       "    .dataframe tbody tr th:only-of-type {\n",
       "        vertical-align: middle;\n",
       "    }\n",
       "\n",
       "    .dataframe tbody tr th {\n",
       "        vertical-align: top;\n",
       "    }\n",
       "\n",
       "    .dataframe thead th {\n",
       "        text-align: right;\n",
       "    }\n",
       "</style>\n",
       "<table border=\"1\" class=\"dataframe\">\n",
       "  <thead>\n",
       "    <tr style=\"text-align: right;\">\n",
       "      <th></th>\n",
       "      <th>0</th>\n",
       "      <th>1</th>\n",
       "      <th>2</th>\n",
       "      <th>tissue</th>\n",
       "      <th>cancer</th>\n",
       "    </tr>\n",
       "  </thead>\n",
       "  <tbody>\n",
       "    <tr>\n",
       "      <th>1869</th>\n",
       "      <td>Brain_Normal.Tissue_Ganglion_Nodose.Nucleus:</td>\n",
       "      <td>GSM176186</td>\n",
       "      <td>277.22</td>\n",
       "      <td>Brain</td>\n",
       "      <td>Normal.Tissue</td>\n",
       "    </tr>\n",
       "    <tr>\n",
       "      <th>1870</th>\n",
       "      <td>Brain_Normal.Tissue_Ganglion_Nodose.Nucleus:</td>\n",
       "      <td>GSM176205</td>\n",
       "      <td>265.63</td>\n",
       "      <td>Brain</td>\n",
       "      <td>Normal.Tissue</td>\n",
       "    </tr>\n",
       "    <tr>\n",
       "      <th>1871</th>\n",
       "      <td>Brain_Normal.Tissue_Ganglion_Nodose.Nucleus:</td>\n",
       "      <td>GSM176348</td>\n",
       "      <td>248.41</td>\n",
       "      <td>Brain</td>\n",
       "      <td>Normal.Tissue</td>\n",
       "    </tr>\n",
       "    <tr>\n",
       "      <th>1872</th>\n",
       "      <td>Brain_Normal.Tissue_Ganglion_Nodose.Nucleus:</td>\n",
       "      <td>GSM176349</td>\n",
       "      <td>174.93</td>\n",
       "      <td>Brain</td>\n",
       "      <td>Normal.Tissue</td>\n",
       "    </tr>\n",
       "    <tr>\n",
       "      <th>1873</th>\n",
       "      <td>Brain_Normal.Tissue_Ganglion_Nodose.Nucleus:</td>\n",
       "      <td>GSM176350</td>\n",
       "      <td>254.88</td>\n",
       "      <td>Brain</td>\n",
       "      <td>Normal.Tissue</td>\n",
       "    </tr>\n",
       "    <tr>\n",
       "      <th>1874</th>\n",
       "      <td>Brain_Normal.Tissue_Ganglion_Nodose.Nucleus:</td>\n",
       "      <td>GSM176351</td>\n",
       "      <td>200.99</td>\n",
       "      <td>Brain</td>\n",
       "      <td>Normal.Tissue</td>\n",
       "    </tr>\n",
       "    <tr>\n",
       "      <th>1880</th>\n",
       "      <td>Brain_Normal.Tissue_Hypothalamus:</td>\n",
       "      <td>GSM176067</td>\n",
       "      <td>140.05</td>\n",
       "      <td>Brain</td>\n",
       "      <td>Normal.Tissue</td>\n",
       "    </tr>\n",
       "    <tr>\n",
       "      <th>1881</th>\n",
       "      <td>Brain_Normal.Tissue_Hypothalamus:</td>\n",
       "      <td>GSM176116</td>\n",
       "      <td>223.96</td>\n",
       "      <td>Brain</td>\n",
       "      <td>Normal.Tissue</td>\n",
       "    </tr>\n",
       "    <tr>\n",
       "      <th>1882</th>\n",
       "      <td>Brain_Normal.Tissue_Hypothalamus:</td>\n",
       "      <td>GSM176226</td>\n",
       "      <td>239.79</td>\n",
       "      <td>Brain</td>\n",
       "      <td>Normal.Tissue</td>\n",
       "    </tr>\n",
       "    <tr>\n",
       "      <th>1883</th>\n",
       "      <td>Brain_Normal.Tissue_Hypothalamus:</td>\n",
       "      <td>GSM176381</td>\n",
       "      <td>170.04</td>\n",
       "      <td>Brain</td>\n",
       "      <td>Normal.Tissue</td>\n",
       "    </tr>\n",
       "    <tr>\n",
       "      <th>1884</th>\n",
       "      <td>Brain_Normal.Tissue_Hypothalamus:</td>\n",
       "      <td>GSM176382</td>\n",
       "      <td>184.15</td>\n",
       "      <td>Brain</td>\n",
       "      <td>Normal.Tissue</td>\n",
       "    </tr>\n",
       "    <tr>\n",
       "      <th>1885</th>\n",
       "      <td>Brain_Normal.Tissue_Hypothalamus:</td>\n",
       "      <td>GSM176384</td>\n",
       "      <td>172.91</td>\n",
       "      <td>Brain</td>\n",
       "      <td>Normal.Tissue</td>\n",
       "    </tr>\n",
       "    <tr>\n",
       "      <th>1960</th>\n",
       "      <td>Brain_Normal.Tissue_Hypothalamus_Pituitary.Gland:</td>\n",
       "      <td>GSM176295</td>\n",
       "      <td>132.72</td>\n",
       "      <td>Brain</td>\n",
       "      <td>Normal.Tissue</td>\n",
       "    </tr>\n",
       "    <tr>\n",
       "      <th>1961</th>\n",
       "      <td>Brain_Normal.Tissue_Hypothalamus_Pituitary.Gland:</td>\n",
       "      <td>GSM176296</td>\n",
       "      <td>249.54</td>\n",
       "      <td>Brain</td>\n",
       "      <td>Normal.Tissue</td>\n",
       "    </tr>\n",
       "    <tr>\n",
       "      <th>1962</th>\n",
       "      <td>Brain_Normal.Tissue_Hypothalamus_Pituitary.Gland:</td>\n",
       "      <td>GSM176297</td>\n",
       "      <td>179.16</td>\n",
       "      <td>Brain</td>\n",
       "      <td>Normal.Tissue</td>\n",
       "    </tr>\n",
       "    <tr>\n",
       "      <th>1963</th>\n",
       "      <td>Brain_Normal.Tissue_Hypothalamus_Pituitary.Gland:</td>\n",
       "      <td>GSM176411</td>\n",
       "      <td>169.20</td>\n",
       "      <td>Brain</td>\n",
       "      <td>Normal.Tissue</td>\n",
       "    </tr>\n",
       "    <tr>\n",
       "      <th>1964</th>\n",
       "      <td>Brain_Normal.Tissue_Hypothalamus_Pituitary.Gland:</td>\n",
       "      <td>GSM176412</td>\n",
       "      <td>209.72</td>\n",
       "      <td>Brain</td>\n",
       "      <td>Normal.Tissue</td>\n",
       "    </tr>\n",
       "    <tr>\n",
       "      <th>1965</th>\n",
       "      <td>Brain_Normal.Tissue_Hypothalamus_Pituitary.Gland:</td>\n",
       "      <td>GSM176413</td>\n",
       "      <td>158.70</td>\n",
       "      <td>Brain</td>\n",
       "      <td>Normal.Tissue</td>\n",
       "    </tr>\n",
       "    <tr>\n",
       "      <th>2049</th>\n",
       "      <td>Brain_Normal.Tissue_Thalamus:</td>\n",
       "      <td>GSM175885</td>\n",
       "      <td>259.14</td>\n",
       "      <td>Brain</td>\n",
       "      <td>Normal.Tissue</td>\n",
       "    </tr>\n",
       "    <tr>\n",
       "      <th>2050</th>\n",
       "      <td>Brain_Normal.Tissue_Thalamus:</td>\n",
       "      <td>GSM175886</td>\n",
       "      <td>187.05</td>\n",
       "      <td>Brain</td>\n",
       "      <td>Normal.Tissue</td>\n",
       "    </tr>\n",
       "    <tr>\n",
       "      <th>2051</th>\n",
       "      <td>Brain_Normal.Tissue_Thalamus:</td>\n",
       "      <td>GSM175887</td>\n",
       "      <td>198.73</td>\n",
       "      <td>Brain</td>\n",
       "      <td>Normal.Tissue</td>\n",
       "    </tr>\n",
       "    <tr>\n",
       "      <th>2052</th>\n",
       "      <td>Brain_Normal.Tissue_Thalamus:</td>\n",
       "      <td>GSM175888</td>\n",
       "      <td>248.72</td>\n",
       "      <td>Brain</td>\n",
       "      <td>Normal.Tissue</td>\n",
       "    </tr>\n",
       "    <tr>\n",
       "      <th>2053</th>\n",
       "      <td>Brain_Normal.Tissue_Thalamus:</td>\n",
       "      <td>GSM176061</td>\n",
       "      <td>323.97</td>\n",
       "      <td>Brain</td>\n",
       "      <td>Normal.Tissue</td>\n",
       "    </tr>\n",
       "    <tr>\n",
       "      <th>2054</th>\n",
       "      <td>Brain_Normal.Tissue_Thalamus:</td>\n",
       "      <td>GSM176216</td>\n",
       "      <td>223.15</td>\n",
       "      <td>Brain</td>\n",
       "      <td>Normal.Tissue</td>\n",
       "    </tr>\n",
       "    <tr>\n",
       "      <th>2055</th>\n",
       "      <td>Brain_Normal.Tissue_Thalamus:</td>\n",
       "      <td>GSM176217</td>\n",
       "      <td>333.58</td>\n",
       "      <td>Brain</td>\n",
       "      <td>Normal.Tissue</td>\n",
       "    </tr>\n",
       "    <tr>\n",
       "      <th>2056</th>\n",
       "      <td>Brain_Normal.Tissue_Thalamus_Thalamus.Lateral....</td>\n",
       "      <td>GSM176452</td>\n",
       "      <td>265.93</td>\n",
       "      <td>Brain</td>\n",
       "      <td>Normal.Tissue</td>\n",
       "    </tr>\n",
       "    <tr>\n",
       "      <th>2057</th>\n",
       "      <td>Brain_Normal.Tissue_Thalamus_Thalamus.Lateral....</td>\n",
       "      <td>GSM176454</td>\n",
       "      <td>268.08</td>\n",
       "      <td>Brain</td>\n",
       "      <td>Normal.Tissue</td>\n",
       "    </tr>\n",
       "    <tr>\n",
       "      <th>2058</th>\n",
       "      <td>Brain_Normal.Tissue_Thalamus_Thalamus.Subthala...</td>\n",
       "      <td>GSM176451</td>\n",
       "      <td>232.63</td>\n",
       "      <td>Brain</td>\n",
       "      <td>Normal.Tissue</td>\n",
       "    </tr>\n",
       "    <tr>\n",
       "      <th>2059</th>\n",
       "      <td>Brain_Normal.Tissue_Thalamus_Thalamus.Subthala...</td>\n",
       "      <td>GSM176453</td>\n",
       "      <td>223.79</td>\n",
       "      <td>Brain</td>\n",
       "      <td>Normal.Tissue</td>\n",
       "    </tr>\n",
       "    <tr>\n",
       "      <th>2061</th>\n",
       "      <td>Brain_Normal.Tissue_Thalamus_Thymus.Gland:</td>\n",
       "      <td>GSM175973</td>\n",
       "      <td>406.89</td>\n",
       "      <td>Brain</td>\n",
       "      <td>Normal.Tissue</td>\n",
       "    </tr>\n",
       "    <tr>\n",
       "      <th>2062</th>\n",
       "      <td>Brain_Normal.Tissue_Thalamus_Thymus.Gland:</td>\n",
       "      <td>GSM176262</td>\n",
       "      <td>592.10</td>\n",
       "      <td>Brain</td>\n",
       "      <td>Normal.Tissue</td>\n",
       "    </tr>\n",
       "    <tr>\n",
       "      <th>2081</th>\n",
       "      <td>Brain_Normal.Tissue_Neuronal.Tissue_Trigeminal...</td>\n",
       "      <td>GSM175889</td>\n",
       "      <td>244.69</td>\n",
       "      <td>Brain</td>\n",
       "      <td>Normal.Tissue</td>\n",
       "    </tr>\n",
       "    <tr>\n",
       "      <th>2082</th>\n",
       "      <td>Brain_Normal.Tissue_Neuronal.Tissue_Trigeminal...</td>\n",
       "      <td>GSM175891</td>\n",
       "      <td>222.40</td>\n",
       "      <td>Brain</td>\n",
       "      <td>Normal.Tissue</td>\n",
       "    </tr>\n",
       "    <tr>\n",
       "      <th>2083</th>\n",
       "      <td>Brain_Normal.Tissue_Neuronal.Tissue_Trigeminal...</td>\n",
       "      <td>GSM176063</td>\n",
       "      <td>170.12</td>\n",
       "      <td>Brain</td>\n",
       "      <td>Normal.Tissue</td>\n",
       "    </tr>\n",
       "    <tr>\n",
       "      <th>2084</th>\n",
       "      <td>Brain_Normal.Tissue_Neuronal.Tissue_Trigeminal...</td>\n",
       "      <td>GSM176076</td>\n",
       "      <td>374.26</td>\n",
       "      <td>Brain</td>\n",
       "      <td>Normal.Tissue</td>\n",
       "    </tr>\n",
       "    <tr>\n",
       "      <th>2085</th>\n",
       "      <td>Brain_Normal.Tissue_Neuronal.Tissue_Trigeminal...</td>\n",
       "      <td>GSM176220</td>\n",
       "      <td>276.32</td>\n",
       "      <td>Brain</td>\n",
       "      <td>Normal.Tissue</td>\n",
       "    </tr>\n",
       "    <tr>\n",
       "      <th>2086</th>\n",
       "      <td>Brain_Normal.Tissue_Neuronal.Tissue_Trigeminal...</td>\n",
       "      <td>GSM176221</td>\n",
       "      <td>214.30</td>\n",
       "      <td>Brain</td>\n",
       "      <td>Normal.Tissue</td>\n",
       "    </tr>\n",
       "  </tbody>\n",
       "</table>\n",
       "</div>"
      ],
      "text/plain": [
       "                                                      0          1       2  \\\n",
       "1869       Brain_Normal.Tissue_Ganglion_Nodose.Nucleus:  GSM176186  277.22   \n",
       "1870       Brain_Normal.Tissue_Ganglion_Nodose.Nucleus:  GSM176205  265.63   \n",
       "1871       Brain_Normal.Tissue_Ganglion_Nodose.Nucleus:  GSM176348  248.41   \n",
       "1872       Brain_Normal.Tissue_Ganglion_Nodose.Nucleus:  GSM176349  174.93   \n",
       "1873       Brain_Normal.Tissue_Ganglion_Nodose.Nucleus:  GSM176350  254.88   \n",
       "1874       Brain_Normal.Tissue_Ganglion_Nodose.Nucleus:  GSM176351  200.99   \n",
       "1880                  Brain_Normal.Tissue_Hypothalamus:  GSM176067  140.05   \n",
       "1881                  Brain_Normal.Tissue_Hypothalamus:  GSM176116  223.96   \n",
       "1882                  Brain_Normal.Tissue_Hypothalamus:  GSM176226  239.79   \n",
       "1883                  Brain_Normal.Tissue_Hypothalamus:  GSM176381  170.04   \n",
       "1884                  Brain_Normal.Tissue_Hypothalamus:  GSM176382  184.15   \n",
       "1885                  Brain_Normal.Tissue_Hypothalamus:  GSM176384  172.91   \n",
       "1960  Brain_Normal.Tissue_Hypothalamus_Pituitary.Gland:  GSM176295  132.72   \n",
       "1961  Brain_Normal.Tissue_Hypothalamus_Pituitary.Gland:  GSM176296  249.54   \n",
       "1962  Brain_Normal.Tissue_Hypothalamus_Pituitary.Gland:  GSM176297  179.16   \n",
       "1963  Brain_Normal.Tissue_Hypothalamus_Pituitary.Gland:  GSM176411  169.20   \n",
       "1964  Brain_Normal.Tissue_Hypothalamus_Pituitary.Gland:  GSM176412  209.72   \n",
       "1965  Brain_Normal.Tissue_Hypothalamus_Pituitary.Gland:  GSM176413  158.70   \n",
       "2049                      Brain_Normal.Tissue_Thalamus:  GSM175885  259.14   \n",
       "2050                      Brain_Normal.Tissue_Thalamus:  GSM175886  187.05   \n",
       "2051                      Brain_Normal.Tissue_Thalamus:  GSM175887  198.73   \n",
       "2052                      Brain_Normal.Tissue_Thalamus:  GSM175888  248.72   \n",
       "2053                      Brain_Normal.Tissue_Thalamus:  GSM176061  323.97   \n",
       "2054                      Brain_Normal.Tissue_Thalamus:  GSM176216  223.15   \n",
       "2055                      Brain_Normal.Tissue_Thalamus:  GSM176217  333.58   \n",
       "2056  Brain_Normal.Tissue_Thalamus_Thalamus.Lateral....  GSM176452  265.93   \n",
       "2057  Brain_Normal.Tissue_Thalamus_Thalamus.Lateral....  GSM176454  268.08   \n",
       "2058  Brain_Normal.Tissue_Thalamus_Thalamus.Subthala...  GSM176451  232.63   \n",
       "2059  Brain_Normal.Tissue_Thalamus_Thalamus.Subthala...  GSM176453  223.79   \n",
       "2061         Brain_Normal.Tissue_Thalamus_Thymus.Gland:  GSM175973  406.89   \n",
       "2062         Brain_Normal.Tissue_Thalamus_Thymus.Gland:  GSM176262  592.10   \n",
       "2081  Brain_Normal.Tissue_Neuronal.Tissue_Trigeminal...  GSM175889  244.69   \n",
       "2082  Brain_Normal.Tissue_Neuronal.Tissue_Trigeminal...  GSM175891  222.40   \n",
       "2083  Brain_Normal.Tissue_Neuronal.Tissue_Trigeminal...  GSM176063  170.12   \n",
       "2084  Brain_Normal.Tissue_Neuronal.Tissue_Trigeminal...  GSM176076  374.26   \n",
       "2085  Brain_Normal.Tissue_Neuronal.Tissue_Trigeminal...  GSM176220  276.32   \n",
       "2086  Brain_Normal.Tissue_Neuronal.Tissue_Trigeminal...  GSM176221  214.30   \n",
       "\n",
       "     tissue         cancer  \n",
       "1869  Brain  Normal.Tissue  \n",
       "1870  Brain  Normal.Tissue  \n",
       "1871  Brain  Normal.Tissue  \n",
       "1872  Brain  Normal.Tissue  \n",
       "1873  Brain  Normal.Tissue  \n",
       "1874  Brain  Normal.Tissue  \n",
       "1880  Brain  Normal.Tissue  \n",
       "1881  Brain  Normal.Tissue  \n",
       "1882  Brain  Normal.Tissue  \n",
       "1883  Brain  Normal.Tissue  \n",
       "1884  Brain  Normal.Tissue  \n",
       "1885  Brain  Normal.Tissue  \n",
       "1960  Brain  Normal.Tissue  \n",
       "1961  Brain  Normal.Tissue  \n",
       "1962  Brain  Normal.Tissue  \n",
       "1963  Brain  Normal.Tissue  \n",
       "1964  Brain  Normal.Tissue  \n",
       "1965  Brain  Normal.Tissue  \n",
       "2049  Brain  Normal.Tissue  \n",
       "2050  Brain  Normal.Tissue  \n",
       "2051  Brain  Normal.Tissue  \n",
       "2052  Brain  Normal.Tissue  \n",
       "2053  Brain  Normal.Tissue  \n",
       "2054  Brain  Normal.Tissue  \n",
       "2055  Brain  Normal.Tissue  \n",
       "2056  Brain  Normal.Tissue  \n",
       "2057  Brain  Normal.Tissue  \n",
       "2058  Brain  Normal.Tissue  \n",
       "2059  Brain  Normal.Tissue  \n",
       "2061  Brain  Normal.Tissue  \n",
       "2062  Brain  Normal.Tissue  \n",
       "2081  Brain  Normal.Tissue  \n",
       "2082  Brain  Normal.Tissue  \n",
       "2083  Brain  Normal.Tissue  \n",
       "2084  Brain  Normal.Tissue  \n",
       "2085  Brain  Normal.Tissue  \n",
       "2086  Brain  Normal.Tissue  "
      ]
     },
     "execution_count": 74,
     "metadata": {},
     "output_type": "execute_result"
    }
   ],
   "source": [
    "df[df['tissue'] == 'Brain']"
   ]
  },
  {
   "cell_type": "code",
   "execution_count": 75,
   "id": "abdde51c-ba19-4543-8ef9-ef132bbf60fe",
   "metadata": {},
   "outputs": [
    {
     "data": {
      "text/plain": [
       "array(['Central.Nervous.System_Primary.Tumor_Astrocytoma:',\n",
       "       'Central.Nervous.System_Primary.Tumor_Brain:',\n",
       "       'Central.Nervous.System_Primary.Tumor_Glioblastoma:',\n",
       "       'Central.Nervous.System_Primary.Tumor_Glioblastoma,Grade-4:',\n",
       "       'Central.Nervous.System_Primary.Tumor_Unknown:',\n",
       "       'Central.Nervous.System_Normal.Tissue_Basal.Ganglia:',\n",
       "       'Central.Nervous.System_Normal.Tissue_Brainstem:',\n",
       "       'Central.Nervous.System_Normal.Tissue_Cerebral.Cortex:',\n",
       "       'Central.Nervous.System_Normal.Tissue_Hippocampus:',\n",
       "       'Central.Nervous.System_Normal.Tissue_Spinal.Cord:',\n",
       "       'Central.Nervous.System_Normal.Tissue_Vestibular.Nuclei.Superior:'],\n",
       "      dtype=object)"
      ]
     },
     "execution_count": 75,
     "metadata": {},
     "output_type": "execute_result"
    }
   ],
   "source": [
    "df[df['tissue'] == 'Central.Nervous.System'][0].unique()"
   ]
  },
  {
   "cell_type": "code",
   "execution_count": 76,
   "id": "8a049541-0be6-42cf-b041-e38ced7600dd",
   "metadata": {},
   "outputs": [
    {
     "data": {
      "text/plain": [
       "{'Adrenal': Ttest_indResult(statistic=1.1752705510256716, pvalue=0.41902145046581846),\n",
       " 'Bone': Ttest_indResult(statistic=nan, pvalue=nan),\n",
       " 'Breast': Ttest_indResult(statistic=-18.860299979481642, pvalue=1.2055371732676728e-55),\n",
       " 'Central.Nervous.System': Ttest_indResult(statistic=-5.454949906036256, pvalue=5.147460976089079e-06),\n",
       " 'Colon': Ttest_indResult(statistic=-0.5881422716630812, pvalue=0.5626127057815985),\n",
       " 'Esophagus': Ttest_indResult(statistic=-4.233596003385528, pvalue=0.006900756619318742),\n",
       " 'Female.Reproductive.System': Ttest_indResult(statistic=-8.191568936269919, pvalue=4.133699884009881e-13),\n",
       " 'Haematopoietic.And.Lymphoid.Tissue': Ttest_indResult(statistic=-0.0678604788330668, pvalue=0.9470588704286873),\n",
       " 'Kidney': Ttest_indResult(statistic=-2.8618679261306315, pvalue=0.01516575978468159),\n",
       " 'Liver': Ttest_indResult(statistic=-2.839518571455679, pvalue=0.01306848452229728),\n",
       " 'Lung': Ttest_indResult(statistic=-4.818961236766246, pvalue=3.51859579169726e-05),\n",
       " 'Pancreas': Ttest_indResult(statistic=-7.527374407381723, pvalue=2.007937855608342e-10),\n",
       " 'Prostate': Ttest_indResult(statistic=-0.5465365386483794, pvalue=0.59014541320795),\n",
       " 'Salivary.Gland': Ttest_indResult(statistic=-2.7322003481677015, pvalue=0.036798093787604305),\n",
       " 'Small.Intestine': Ttest_indResult(statistic=-0.17540562051888434, pvalue=0.863164597271989),\n",
       " 'Stomach': Ttest_indResult(statistic=-2.3188784427643814, pvalue=0.03381342020108964),\n",
       " 'Testes': Ttest_indResult(statistic=-4.058110742987497, pvalue=0.022390014981402667),\n",
       " 'Thyroid': Ttest_indResult(statistic=-4.1157417677689585, pvalue=0.00023152477804733046),\n",
       " 'Urinary.Tract': Ttest_indResult(statistic=nan, pvalue=nan),\n",
       " 'Bladder': Ttest_indResult(statistic=-4.656460947828686, pvalue=0.0015508580709060634),\n",
       " 'Skin': Ttest_indResult(statistic=-5.0524363332749, pvalue=6.165389040103748e-06),\n",
       " 'Embryo': Ttest_indResult(statistic=nan, pvalue=nan),\n",
       " 'Adipose': Ttest_indResult(statistic=nan, pvalue=nan),\n",
       " 'Vascular.System': Ttest_indResult(statistic=nan, pvalue=nan),\n",
       " 'Fetal': Ttest_indResult(statistic=nan, pvalue=nan),\n",
       " 'Brain': Ttest_indResult(statistic=nan, pvalue=nan),\n",
       " 'Upper.Aerodigestive.Tract': Ttest_indResult(statistic=nan, pvalue=nan),\n",
       " 'Soft.Tissue': Ttest_indResult(statistic=nan, pvalue=nan)}"
      ]
     },
     "execution_count": 76,
     "metadata": {},
     "output_type": "execute_result"
    }
   ],
   "source": [
    "t_tests"
   ]
  },
  {
   "cell_type": "code",
   "execution_count": 77,
   "id": "824f00e9-a608-4be4-bd7f-4e3753f9f6ac",
   "metadata": {},
   "outputs": [
    {
     "data": {
      "text/plain": [
       "{'Adrenal': Ttest_indResult(statistic=1.1752705510256716, pvalue=0.41902145046581846),\n",
       " 'Bone': Ttest_indResult(statistic=nan, pvalue=nan),\n",
       " 'Breast': Ttest_indResult(statistic=-18.860299979481642, pvalue=1.2055371732676728e-55),\n",
       " 'Central.Nervous.System': Ttest_indResult(statistic=-5.454949906036256, pvalue=5.147460976089079e-06),\n",
       " 'Colon': Ttest_indResult(statistic=-0.5881422716630812, pvalue=0.5626127057815985),\n",
       " 'Esophagus': Ttest_indResult(statistic=-4.233596003385528, pvalue=0.006900756619318742),\n",
       " 'Female.Reproductive.System': Ttest_indResult(statistic=-8.191568936269919, pvalue=4.133699884009881e-13),\n",
       " 'Haematopoietic.And.Lymphoid.Tissue': Ttest_indResult(statistic=-0.0678604788330668, pvalue=0.9470588704286873),\n",
       " 'Kidney': Ttest_indResult(statistic=-2.8618679261306315, pvalue=0.01516575978468159),\n",
       " 'Liver': Ttest_indResult(statistic=-2.839518571455679, pvalue=0.01306848452229728),\n",
       " 'Lung': Ttest_indResult(statistic=-4.818961236766246, pvalue=3.51859579169726e-05),\n",
       " 'Pancreas': Ttest_indResult(statistic=-7.527374407381723, pvalue=2.007937855608342e-10),\n",
       " 'Prostate': Ttest_indResult(statistic=-0.5465365386483794, pvalue=0.59014541320795),\n",
       " 'Salivary.Gland': Ttest_indResult(statistic=-2.7322003481677015, pvalue=0.036798093787604305),\n",
       " 'Small.Intestine': Ttest_indResult(statistic=-0.17540562051888434, pvalue=0.863164597271989),\n",
       " 'Stomach': Ttest_indResult(statistic=-2.3188784427643814, pvalue=0.03381342020108964),\n",
       " 'Testes': Ttest_indResult(statistic=-4.058110742987497, pvalue=0.022390014981402667),\n",
       " 'Thyroid': Ttest_indResult(statistic=-4.1157417677689585, pvalue=0.00023152477804733046),\n",
       " 'Urinary.Tract': Ttest_indResult(statistic=nan, pvalue=nan),\n",
       " 'Bladder': Ttest_indResult(statistic=-4.656460947828686, pvalue=0.0015508580709060634),\n",
       " 'Skin': Ttest_indResult(statistic=-5.0524363332749, pvalue=6.165389040103748e-06),\n",
       " 'Embryo': Ttest_indResult(statistic=nan, pvalue=nan),\n",
       " 'Adipose': Ttest_indResult(statistic=nan, pvalue=nan),\n",
       " 'Vascular.System': Ttest_indResult(statistic=nan, pvalue=nan),\n",
       " 'Fetal': Ttest_indResult(statistic=nan, pvalue=nan),\n",
       " 'Brain': Ttest_indResult(statistic=nan, pvalue=nan),\n",
       " 'Upper.Aerodigestive.Tract': Ttest_indResult(statistic=nan, pvalue=nan),\n",
       " 'Soft.Tissue': Ttest_indResult(statistic=nan, pvalue=nan)}"
      ]
     },
     "execution_count": 77,
     "metadata": {},
     "output_type": "execute_result"
    }
   ],
   "source": [
    "t_tests"
   ]
  },
  {
   "cell_type": "code",
   "execution_count": 78,
   "id": "428e914e-fb05-4f5b-9070-25de81709f09",
   "metadata": {},
   "outputs": [],
   "source": [
    "t_tests['All'] = ttest_ind(df[df['cancer']!='Primary.Tumor'][2], df[df['cancer']=='Primary.Tumor'][2])"
   ]
  },
  {
   "cell_type": "code",
   "execution_count": 79,
   "id": "e67ef5d9-04de-48cd-9845-330d2fe1fa08",
   "metadata": {},
   "outputs": [],
   "source": [
    "df2 = pd.DataFrame(t_tests)\n",
    "df2 = df2.T\n",
    "df2 = df2.rename(columns={0:'t-statistic',1:'p-value'})\n",
    "df2 = df2.dropna()\n",
    "df2.to_csv('MERAV_T-Test_table')\n"
   ]
  },
  {
   "cell_type": "code",
   "execution_count": 80,
   "id": "97e246e0-965d-4992-a046-b8080a66122a",
   "metadata": {},
   "outputs": [],
   "source": [
    "tissue = 'Lung'\n",
    "\n",
    "sub_df = df[df['tissue'] == tissue]\n",
    "\n",
    "result = ttest_ind(sub_df[sub_df['cancer']!='Primary.Tumor'][2], sub_df[sub_df['cancer']=='Primary.Tumor'][2])\n"
   ]
  },
  {
   "cell_type": "code",
   "execution_count": 81,
   "id": "54ea3514-941d-496a-81bc-bf0b5f9f10e2",
   "metadata": {},
   "outputs": [
    {
     "data": {
      "text/plain": [
       "Ttest_indResult(statistic=-2.024540489887207, pvalue=0.04506256450829694)"
      ]
     },
     "execution_count": 81,
     "metadata": {},
     "output_type": "execute_result"
    }
   ],
   "source": [
    "result"
   ]
  },
  {
   "cell_type": "code",
   "execution_count": 82,
   "id": "fee3781a-467e-4c88-b991-bf02678dc890",
   "metadata": {},
   "outputs": [
    {
     "data": {
      "text/plain": [
       "975.0693965517241"
      ]
     },
     "execution_count": 82,
     "metadata": {},
     "output_type": "execute_result"
    }
   ],
   "source": [
    "import numpy as np\n",
    "\n",
    "np.mean(sub_df[sub_df['cancer']=='Primary.Tumor'][2])"
   ]
  },
  {
   "cell_type": "code",
   "execution_count": 83,
   "id": "86baf772-79b6-4f94-bec9-465f18bcad8f",
   "metadata": {},
   "outputs": [
    {
     "data": {
      "text/plain": [
       "428.32700000000006"
      ]
     },
     "execution_count": 83,
     "metadata": {},
     "output_type": "execute_result"
    }
   ],
   "source": [
    "np.mean(sub_df[sub_df['cancer']!='Primary.Tumor'][2])"
   ]
  },
  {
   "cell_type": "code",
   "execution_count": 84,
   "id": "79e9155d-00ee-4534-9557-2ce37c85c728",
   "metadata": {},
   "outputs": [],
   "source": [
    "from scipy.stats import ttest_ind\n",
    "\n",
    "t_tests = {}\n",
    "for tissue in df['tissue'].unique():\n",
    "    # try:\n",
    "    sub_df = df[df['tissue'] == tissue]\n",
    "    \n",
    "    result = ttest_ind(sub_df[sub_df['cancer']!='Primary.Tumor'][2], sub_df[sub_df['cancer']=='Primary.Tumor'][2])\n",
    "\n",
    "    t_tests[tissue] = result"
   ]
  },
  {
   "cell_type": "code",
   "execution_count": 85,
   "id": "6ab9b7f2-4d3c-4bec-985f-0f99213bbc9b",
   "metadata": {},
   "outputs": [],
   "source": [
    "def cancer(x):\n",
    "    if x == 'Primary.Tumor':\n",
    "        return 'Primary Tumor'\n",
    "    else:\n",
    "        return 'Healthy Tissue'\n",
    "    \n",
    "df['Status'] = df['cancer'].apply(cancer)"
   ]
  },
  {
   "cell_type": "code",
   "execution_count": 86,
   "id": "84aac624-e41d-4174-8818-ef89d5439ee0",
   "metadata": {},
   "outputs": [],
   "source": [
    "df['Expression'] = df[2]"
   ]
  },
  {
   "cell_type": "code",
   "execution_count": 87,
   "id": "ee746c48-e734-46c5-9e15-8548f1715ab7",
   "metadata": {},
   "outputs": [],
   "source": [
    "df['Tissue'] = df['tissue'].apply(lambda x: x.replace('.', ' '))"
   ]
  },
  {
   "cell_type": "code",
   "execution_count": 88,
   "id": "3f38c7e3-34b4-4a06-af5d-57238cc4d11e",
   "metadata": {
    "tags": []
   },
   "outputs": [
    {
     "data": {
      "image/png": "[encoded data removed]",
      "text/plain": [
       "<Figure size 1728x576 with 1 Axes>"
      ]
     },
     "metadata": {},
     "output_type": "display_data"
    }
   ],
   "source": [
    "import seaborn as sns\n",
    "import matplotlib.pyplot as plt\n",
    "\n",
    "sns.set(rc={'figure.figsize':(24,8)})\n",
    "sns.set(font_scale=2)\n",
    "sns.set_theme()\n",
    "sns.set_style(style='white')\n",
    "\n",
    "my_pal = {\"Primary Tumor\": \"skyblue\", \"Healthy Tissue\": \"#FF6037\"}\n",
    "\n",
    "sns.boxplot(data=df, x=\"Tissue\", y=\"Expression\", hue=\"Status\",palette=my_pal)\n",
    "plt.xticks(rotation=90)\n",
    "plt.legend([],[], frameon=False)\n",
    "\n",
    "sns.despine(top=True, right=True, left=True, bottom=True)\n",
    "\n",
    "\n",
    "plt.savefig(\"merav_boxplot.pdf\", format=\"pdf\", bbox_inches=\"tight\")\n"
   ]
  },
  {
   "cell_type": "code",
   "execution_count": 28,
   "id": "bfaeb3e5-12dd-474f-8289-5034b8129447",
   "metadata": {},
   "outputs": [],
   "source": [
    "import seaborn as sns\n",
    "\n"
   ]
  },
  {
   "cell_type": "code",
   "execution_count": 29,
   "id": "3cf7c91f-b11c-48ed-9d6d-af5e1850a9e4",
   "metadata": {
    "tags": []
   },
   "outputs": [],
   "source": [
    "df = pd.read_csv('data/Immune_TFRC_Expression_data.csv', header= None)"
   ]
  },
  {
   "cell_type": "code",
   "execution_count": 30,
   "id": "b6a3b0ef-85fc-4a6b-bfec-08dd75e09237",
   "metadata": {},
   "outputs": [],
   "source": [
    "dictionary = {}\n",
    "for row in df.iterrows():\n",
    "    row_vals = row[1].values\n",
    "    row_vals = row_vals[row_vals!=0]\n",
    "    # print(row_vals)\n",
    "    dictionary[row_vals[0]] = row_vals[1:]\n",
    "    # exis"
   ]
  },
  {
   "cell_type": "code",
   "execution_count": 32,
   "id": "97e5fe06-d445-4af8-ad1b-2911ec5b6550",
   "metadata": {},
   "outputs": [],
   "source": [
    "import pandas as pd\n",
    "\n",
    "df = pd.DataFrame(dictionary.items(), columns=['Tissue', 'Expression'])\n",
    "df = df.explode('Expression')\n"
   ]
  },
  {
   "cell_type": "code",
   "execution_count": 33,
   "id": "fbc70a0c-0009-4347-b5dc-45efbee33907",
   "metadata": {
    "tags": []
   },
   "outputs": [],
   "source": [
    "df['Activated'] = False\n",
    "df.loc[df['Tissue'].str.contains(\"activated\"),'Activated'] = True"
   ]
  },
  {
   "cell_type": "code",
   "execution_count": 34,
   "id": "065f2ffb-751a-4c69-bc03-d81ac409bc4c",
   "metadata": {},
   "outputs": [],
   "source": [
    "df = df.sort_values(by='Tissue')"
   ]
  },
  {
   "cell_type": "code",
   "execution_count": 35,
   "id": "7fb37747-ec8f-425c-b839-980178729ccb",
   "metadata": {
    "tags": []
   },
   "outputs": [
    {
     "data": {
      "text/plain": [
       "array(['B cell, naive', 'Monocyte, classical', 'Monocyte, non-classical',\n",
       "       'NK cell, CD56dim CD16+', 'T cell, CD4, TFH', 'T cell, CD4, TH1',\n",
       "       'T cell, CD4, TH1/17', 'T cell, CD4, TH17', 'T cell, CD4, TH2',\n",
       "       'T cell, CD4, memory TREG', 'T cell, CD4, naive',\n",
       "       'T cell, CD4, naive TREG', 'T cell, CD4, naive [activated]',\n",
       "       'T cell, CD8, naive', 'T cell, CD8, naive [activated]'],\n",
       "      dtype=object)"
      ]
     },
     "execution_count": 35,
     "metadata": {},
     "output_type": "execute_result"
    }
   ],
   "source": [
    "df['Tissue'].unique()"
   ]
  },
  {
   "cell_type": "code",
   "execution_count": 49,
   "id": "28ce6237-bed5-4229-a5d7-7b7a67cf2d11",
   "metadata": {
    "tags": []
   },
   "outputs": [
    {
     "data": {
      "image/png": "[encoded data removed]",
      "text/plain": [
       "<Figure size 1296x576 with 1 Axes>"
      ]
     },
     "metadata": {},
     "output_type": "display_data"
    }
   ],
   "source": [
    "import seaborn as sns\n",
    "import matplotlib.pyplot as plt\n",
    "\n",
    "\n",
    "sns.set(rc={'figure.figsize':(18,8)})\n",
    "\n",
    "my_pal = {True: \"skyblue\", False: \"#FF6037\"}\n",
    "sns.set(font_scale=2)\n",
    "sns.set_theme()\n",
    "sns.set_style(style='white')\n",
    "\n",
    "sns.boxplot(data=df, x=\"Tissue\", y=\"Expression\", hue='Activated', palette=my_pal, order=['B cell, naive', 'Monocyte, classical', 'Monocyte, non-classical',\n",
    "       'NK cell, CD56dim CD16+', 'T cell, CD4, TFH', 'T cell, CD4, TH1',\n",
    "       'T cell, CD4, TH1/17', 'T cell, CD4, TH17', 'T cell, CD4, TH2',\n",
    "       'T cell, CD4, memory TREG',  'T cell, CD4, naive TREG', 'T cell, CD4, naive',\n",
    "       'T cell, CD4, naive [activated]',\n",
    "       'T cell, CD8, naive', 'T cell, CD8, naive [activated]'])\n",
    "plt.xticks(rotation=90)\n",
    "plt.legend([],[], frameon=False)\n",
    "sns.despine(top=True, right=True, left=True, bottom=True)\n",
    "\n",
    "\n",
    "plt.savefig(\"immune_boxplot.pdf\", format=\"pdf\", bbox_inches=\"tight\")\n"
   ]
  },
  {
   "cell_type": "code",
   "execution_count": 50,
   "id": "7919e148-5e81-45ce-b740-58b52c399e85",
   "metadata": {
    "tags": []
   },
   "outputs": [
    {
     "name": "stderr",
     "output_type": "stream",
     "text": [
      "/var/folders/t8/z05p65mn3j997gd006knx_lc0000gn/T/ipykernel_23892/1811007631.py:19: MatplotlibDeprecationWarning: savefig() got unexpected keyword argument \"order\" which is no longer supported as of 3.3 and will become an error in 3.6\n",
      "  plt.savefig(\"activation_immune_boxplot.pdf\", format=\"pdf\", bbox_inches=\"tight\", order=['T cell, CD4, naive',\n"
     ]
    },
    {
     "data": {
      "image/png": "[encoded data removed]",
      "text/plain": [
       "<Figure size 288x576 with 1 Axes>"
      ]
     },
     "metadata": {},
     "output_type": "display_data"
    }
   ],
   "source": [
    "sub_df = df[df['Tissue'].isin(['T cell, CD4, naive',\n",
    "       'T cell, CD4, naive [activated]',\n",
    "       'T cell, CD8, naive', 'T cell, CD8, naive [activated]'])]\n",
    "\n",
    "sns.set(rc={'figure.figsize':(4,8)})\n",
    "\n",
    "my_pal = {True: \"skyblue\", False: \"#FF6037\"}\n",
    "sns.set(font_scale=2)\n",
    "sns.set(font_scale=2)\n",
    "sns.set_theme()\n",
    "sns.set_style(style='white')\n",
    "\n",
    "sns.boxplot(data=sub_df, x=\"Tissue\", y=\"Expression\", hue='Activated', palette=my_pal)\n",
    "plt.xticks(rotation=90)\n",
    "plt.legend([],[], frameon=False)\n",
    "\n",
    "sns.despine(top=True, right=True, left=True, bottom=True)\n",
    "\n",
    "plt.savefig(\"activation_immune_boxplot.pdf\", format=\"pdf\", bbox_inches=\"tight\", order=['T cell, CD4, naive',\n",
    "       'T cell, CD4, naive [activated]',\n",
    "       'T cell, CD8, naive', 'T cell, CD8, naive [activated]'])\n"
   ]
  },
  {
   "cell_type": "code",
   "execution_count": 38,
   "id": "c8aaa113-cff3-4f6c-8474-4aa93f8c927a",
   "metadata": {},
   "outputs": [
    {
     "data": {
      "text/plain": [
       "array(['T cell, CD4, naive', 'T cell, CD4, naive [activated]',\n",
       "       'T cell, CD8, naive', 'T cell, CD8, naive [activated]'],\n",
       "      dtype=object)"
      ]
     },
     "execution_count": 38,
     "metadata": {},
     "output_type": "execute_result"
    }
   ],
   "source": [
    "sub_df['Tissue'].unique()"
   ]
  },
  {
   "cell_type": "code",
   "execution_count": 253,
   "id": "7983472a-a82f-450d-9036-a5657a2a1501",
   "metadata": {
    "tags": []
   },
   "outputs": [],
   "source": [
    "from scipy.stats import ttest_ind\n",
    "\n",
    "t_tests = {}\n",
    "# for tissue in df['Tissue'].unique():\n",
    "    # try:\n",
    "inactive = sub_df[sub_df['Tissue'] == 'T cell, CD4, naive']['Expression']\n",
    "active = sub_df[sub_df['Tissue'] == 'T cell, CD4, naive [activated]']['Expression']\n",
    "\n",
    "result = ttest_ind(active, inactive, equal_var=False)\n",
    "\n",
    "t_tests['T cell, CD4'] = result\n",
    "\n",
    "inactive = sub_df[sub_df['Tissue'] == 'T cell, CD8, naive']['Expression']\n",
    "active = sub_df[sub_df['Tissue'] == 'T cell, CD8, naive [activated]']['Expression']\n",
    "\n",
    "result = ttest_ind(active, inactive, equal_var=False)\n",
    "\n",
    "t_tests['T cell, CD8'] = result\n"
   ]
  },
  {
   "cell_type": "code",
   "execution_count": 254,
   "id": "462e7d12-7946-48d7-8858-a9681d2e1cc6",
   "metadata": {},
   "outputs": [],
   "source": [
    "df2 = pd.DataFrame(t_tests)\n",
    "df2 = df2.T\n",
    "df2 = df2.rename(columns={0:'t-statistic',1:'p-value'})\n",
    "df2 = df2.dropna()\n",
    "df2.to_csv('Activated_T-Test_table.csv')"
   ]
  },
  {
   "cell_type": "code",
   "execution_count": 255,
   "id": "13f0a477-7341-4d84-8443-ccfa1461e947",
   "metadata": {},
   "outputs": [
    {
     "data": {
      "text/html": [
       "<div>\n",
       "<style scoped>\n",
       "    .dataframe tbody tr th:only-of-type {\n",
       "        vertical-align: middle;\n",
       "    }\n",
       "\n",
       "    .dataframe tbody tr th {\n",
       "        vertical-align: top;\n",
       "    }\n",
       "\n",
       "    .dataframe thead th {\n",
       "        text-align: right;\n",
       "    }\n",
       "</style>\n",
       "<table border=\"1\" class=\"dataframe\">\n",
       "  <thead>\n",
       "    <tr style=\"text-align: right;\">\n",
       "      <th></th>\n",
       "      <th>t-statistic</th>\n",
       "      <th>p-value</th>\n",
       "    </tr>\n",
       "  </thead>\n",
       "  <tbody>\n",
       "    <tr>\n",
       "      <th>T cell, CD4</th>\n",
       "      <td>52.777447</td>\n",
       "      <td>1.248116e-68</td>\n",
       "    </tr>\n",
       "    <tr>\n",
       "      <th>T cell, CD8</th>\n",
       "      <td>50.751480</td>\n",
       "      <td>4.806094e-68</td>\n",
       "    </tr>\n",
       "  </tbody>\n",
       "</table>\n",
       "</div>"
      ],
      "text/plain": [
       "             t-statistic       p-value\n",
       "T cell, CD4    52.777447  1.248116e-68\n",
       "T cell, CD8    50.751480  4.806094e-68"
      ]
     },
     "execution_count": 255,
     "metadata": {},
     "output_type": "execute_result"
    }
   ],
   "source": [
    "df2"
   ]
  },
  {
   "cell_type": "code",
   "execution_count": null,
   "id": "9063b0fd-4c2f-439a-8c66-a34e3cc38db1",
   "metadata": {},
   "outputs": [],
   "source": []
  }
 ],
 "metadata": {
  "kernelspec": {
   "display_name": "Python 3 (ipykernel)",
   "language": "python",
   "name": "python3"
  },
  "language_info": {
   "codemirror_mode": {
    "name": "ipython",
    "version": 3
   },
   "file_extension": ".py",
   "mimetype": "text/x-python",
   "name": "python",
   "nbconvert_exporter": "python",
   "pygments_lexer": "ipython3",
   "version": "3.10.5"
  }
 },
 "nbformat": 4,
 "nbformat_minor": 5
}
